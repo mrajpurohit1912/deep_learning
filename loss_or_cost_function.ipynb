{
 "cells": [
  {
   "cell_type": "code",
   "execution_count": 11,
   "id": "607a3506-1ee8-4a37-a90d-0b4acb74c339",
   "metadata": {},
   "outputs": [],
   "source": [
    "import numpy as np"
   ]
  },
  {
   "cell_type": "code",
   "execution_count": 28,
   "id": "eb9dcc28-3192-4ddc-906b-e1891a973fe1",
   "metadata": {},
   "outputs": [],
   "source": [
    "y_predicted = np.array([1,1,0,0,1])\n",
    "y_true = np.array([0.30,0.7,1,0,0.5])"
   ]
  },
  {
   "cell_type": "code",
   "execution_count": 16,
   "id": "02b02bcc-2073-4338-906e-c6373767c9ff",
   "metadata": {},
   "outputs": [
    {
     "name": "stdout",
     "output_type": "stream",
     "text": [
      "total_error:  2.5\n",
      "MAE:  0.5\n",
      "0.5\n"
     ]
    }
   ],
   "source": [
    "def mae(y_true,y_predicted):\n",
    "    total_error = 0\n",
    "    for yt,yp in zip(y_true,y_predicted):\n",
    "        total_error +=  abs(yt - yp)\n",
    "    #mae = total_error / len(y_true)\n",
    "    mae = np.mean(np.abs(y_true - y_predicted))\n",
    "    print(\"total_error: \",total_error)\n",
    "    print(\"MAE: \",mae)\n",
    "    return mae\n",
    "\n",
    "ans = mae(y_true,y_predicted)\n",
    "print(ans)"
   ]
  },
  {
   "cell_type": "code",
   "execution_count": 20,
   "id": "89e481e1-8c0a-4bc0-bd28-605ace389bbe",
   "metadata": {},
   "outputs": [],
   "source": [
    "y_predicted = [1,1,0,0,1]"
   ]
  },
  {
   "cell_type": "code",
   "execution_count": 21,
   "id": "90870820-2cfd-4bd1-9521-9708a27eac5b",
   "metadata": {},
   "outputs": [],
   "source": [
    "epison = 1e-15\n"
   ]
  },
  {
   "cell_type": "code",
   "execution_count": 22,
   "id": "e03421a0-b191-4684-b0d3-f72609347156",
   "metadata": {},
   "outputs": [
    {
     "data": {
      "text/plain": [
       "[1, 1, 1e-15, 1e-15, 1]"
      ]
     },
     "execution_count": 22,
     "metadata": {},
     "output_type": "execute_result"
    }
   ],
   "source": [
    "y_predicted = [max(i,epison) for i in y_predicted]\n",
    "y_predicted"
   ]
  },
  {
   "cell_type": "code",
   "execution_count": 23,
   "id": "661c91d1-3312-4bb5-a42d-28b88a858929",
   "metadata": {},
   "outputs": [
    {
     "data": {
      "text/plain": [
       "[0.999999999999999, 0.999999999999999, 1e-15, 1e-15, 0.999999999999999]"
      ]
     },
     "execution_count": 23,
     "metadata": {},
     "output_type": "execute_result"
    }
   ],
   "source": [
    "y_predicted = [min(i,1-epison) for i in y_predicted]\n",
    "y_predicted"
   ]
  },
  {
   "cell_type": "code",
   "execution_count": 24,
   "id": "d6c73775-cdcd-4700-b264-fd03472a09c9",
   "metadata": {},
   "outputs": [
    {
     "data": {
      "text/plain": [
       "array([1.e+00, 1.e+00, 1.e-15, 1.e-15, 1.e+00])"
      ]
     },
     "execution_count": 24,
     "metadata": {},
     "output_type": "execute_result"
    }
   ],
   "source": [
    "y_predicted_new = np.array(y_predicted)\n",
    "y_predicted_new"
   ]
  },
  {
   "cell_type": "code",
   "execution_count": 26,
   "id": "ed18e47d-58f1-4ac5-aacf-d3836a76184a",
   "metadata": {},
   "outputs": [
    {
     "data": {
      "text/plain": [
       "17.2696280766844"
      ]
     },
     "execution_count": 26,
     "metadata": {},
     "output_type": "execute_result"
    }
   ],
   "source": [
    "\n",
    "-np.mean(y_true * np.log(y_predicted_new) + (1 - y_true) * np.log(1 - y_predicted_new))"
   ]
  },
  {
   "cell_type": "code",
   "execution_count": 32,
   "id": "4dc39610-3fd0-49ff-8690-59dee0ecc63a",
   "metadata": {},
   "outputs": [
    {
     "name": "stdout",
     "output_type": "stream",
     "text": [
      "17.2696280766844\n"
     ]
    }
   ],
   "source": [
    "def log_loss(y_true,y_predicted):\n",
    "    epison = 1e-15\n",
    "    y_predicted_new = [max(i,epison) for i in y_predicted]\n",
    "    y_predicted_new = [min(i,1-epison) for i in y_predicted_new]\n",
    "    y_predicted_new = np.array(y_predicted_new)\n",
    "    #return -np.log(y_true * np.log(y_predicted_new) + (1 - y_true) * np.log(1 - y_predicted_new))\n",
    "    return -np.mean(y_true * np.log(y_predicted_new) + (1 - y_true) * np.log(1 - y_predicted_new))\n",
    "log_loss_val = log_loss(y_true,y_predicted)\n",
    "print(log_loss_val)"
   ]
  },
  {
   "cell_type": "code",
   "execution_count": null,
   "id": "638041ee-c1f3-4558-96ba-725ed2c7d2a9",
   "metadata": {},
   "outputs": [],
   "source": []
  }
 ],
 "metadata": {
  "kernelspec": {
   "display_name": "Python 3 (ipykernel)",
   "language": "python",
   "name": "python3"
  },
  "language_info": {
   "codemirror_mode": {
    "name": "ipython",
    "version": 3
   },
   "file_extension": ".py",
   "mimetype": "text/x-python",
   "name": "python",
   "nbconvert_exporter": "python",
   "pygments_lexer": "ipython3",
   "version": "3.12.4"
  }
 },
 "nbformat": 4,
 "nbformat_minor": 5
}
